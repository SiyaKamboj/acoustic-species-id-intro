{
 "cells": [
  {
   "cell_type": "code",
   "execution_count": 152,
   "id": "52630749-1de0-4e8d-ba6f-2da6f88c43f2",
   "metadata": {},
   "outputs": [],
   "source": [
    "import pandas as pd\n",
    "df = pd.read_csv('Peru_2019_AudioMoth_Data_Full.csv', low_memory=False)"
   ]
  },
  {
   "cell_type": "code",
   "execution_count": 153,
   "id": "d7a70442-415b-4e8c-b39a-7d5a7f58c76c",
   "metadata": {},
   "outputs": [],
   "source": [
    "#only get rows where the duration is atleast 60\n",
    "df=df[df['Duration']>=60]"
   ]
  },
  {
   "cell_type": "code",
   "execution_count": 154,
   "id": "4c9c6d7f-2bd3-49b1-b830-7cb849a0a435",
   "metadata": {},
   "outputs": [
    {
     "name": "stdout",
     "output_type": "stream",
     "text": [
      "File size in original df is 4317.265904676 GB\n"
     ]
    }
   ],
   "source": [
    "#get the original file size to compare it with the new dataframe's filesize later on\n",
    "originalDfSize=df['FileSize'].sum()/1000000000\n",
    "print(\"File size in original df is\", originalDfSize, \"GB\")"
   ]
  },
  {
   "cell_type": "code",
   "execution_count": 155,
   "id": "de664bf6-9262-4754-95f3-36db184f83a6",
   "metadata": {},
   "outputs": [],
   "source": [
    "#remove all moth codes where there are less than 24 occurences in the df\n",
    "df = df.groupby('AudioMothCode').filter(lambda x: len(x) > 24)"
   ]
  },
  {
   "cell_type": "code",
   "execution_count": 156,
   "id": "da0d9c57-20fc-4b56-a11c-a140e0586a41",
   "metadata": {},
   "outputs": [],
   "source": [
    "#convert to datetime format\n",
    "times = pd.to_datetime(df['StartDateTime'], dayfirst=True)\n",
    "# get only hour information and save it as a new column in df\n",
    "df['Hour'] = times.dt.hour"
   ]
  },
  {
   "cell_type": "code",
   "execution_count": 157,
   "id": "72f03134-71bf-4962-8cac-4aea70d5b366",
   "metadata": {},
   "outputs": [],
   "source": [
    "#create a new df where the column information is the same as the previous data frame\n",
    "stratified_sample_df = pd.DataFrame(columns=df.columns)"
   ]
  },
  {
   "cell_type": "code",
   "execution_count": 158,
   "id": "27000b4d-8323-4af5-ade7-7d562af76615",
   "metadata": {},
   "outputs": [],
   "source": [
    "#get a list of all the unique moth codes to loop through later\n",
    "MothCode_list = df['AudioMothCode'].unique().tolist()\n",
    "#loop through all the different moth codes\n",
    "for i in MothCode_list:\n",
    "    #created a new table of just a specific mothcode. This way, when the query is run in the nested loop, it only goes through this subset to improve runtime \n",
    "    mothcodedf=df[(df['AudioMothCode'] == i)]\n",
    "    #Loop from 0 to 23 for each moth code to include every hour\n",
    "    for j in range(24):\n",
    "        #retrieve all the rows from that specific mothcode whose hour is the same as the intended hour\n",
    "        currdf=mothcodedf[(mothcodedf['Hour'] == j)]\n",
    "        #if there is atleast 1 row in the current hour dataframe, get a random sample of 1 from the current dataframe\n",
    "        if (currdf.shape[0]>0):\n",
    "            sample = currdf.sample(n = 1)\n",
    "            #append the row to the end of the new df\n",
    "            stratified_sample_df = pd.concat([stratified_sample_df, sample], ignore_index=True)\n",
    "        #if there is no hour information (ie for all rows with mothcode WWF-#), then grab a random sample from the larger mothcodes df\n",
    "        else:\n",
    "            sample = mothcodedf.sample(n = 1)\n",
    "            stratified_sample_df = pd.concat([stratified_sample_df, sample], ignore_index=True)"
   ]
  },
  {
   "cell_type": "code",
   "execution_count": 159,
   "id": "03fcbc23-7776-4f30-8f82-781cb5004a9b",
   "metadata": {},
   "outputs": [
    {
     "name": "stdout",
     "output_type": "stream",
     "text": [
      "File size in new df is 34.28376768 GB\n",
      "Difference in file size between original and new is 4282.982136996 GB\n"
     ]
    }
   ],
   "source": [
    "#verify that the new stratified sample is much smaller than the original\n",
    "#because none of the WWF moth codes have time-date information, they have not been added to csv, so the filesize for the newdf is not 34.3\n",
    "newDfSize=stratified_sample_df['FileSize'].sum()/1000000000\n",
    "print(\"File size in new df is\", newDfSize, \"GB\")\n",
    "print(\"Difference in file size between original and new is\", originalDfSize-newDfSize, \"GB\")"
   ]
  },
  {
   "cell_type": "code",
   "execution_count": 160,
   "id": "a58db453-f959-45b6-918c-3cf8799df957",
   "metadata": {},
   "outputs": [],
   "source": [
    "#converts to a csv called output.csv\n",
    "stratified_sample_df.to_csv('output.csv', index=False)"
   ]
  }
 ],
 "metadata": {
  "kernelspec": {
   "display_name": "Python 3 (ipykernel)",
   "language": "python",
   "name": "python3"
  },
  "language_info": {
   "codemirror_mode": {
    "name": "ipython",
    "version": 3
   },
   "file_extension": ".py",
   "mimetype": "text/x-python",
   "name": "python",
   "nbconvert_exporter": "python",
   "pygments_lexer": "ipython3",
   "version": "3.11.1"
  }
 },
 "nbformat": 4,
 "nbformat_minor": 5
}
